{
 "cells": [
  {
   "cell_type": "markdown",
   "metadata": {},
   "source": [
    "# Introduction "
   ]
  },
  {
   "cell_type": "markdown",
   "metadata": {},
   "source": [
    "## Why hydrology matters\n",
    "Hydrology, the science of water, holds profound significance in our lives and the environment around us. From the water we drink to the weather patterns that shape our climate, it touches every aspect of our existence. By comprehending water's behavior in various natural and engineered systems, we gain invaluable insights into managing water resources, mitigating floods and droughts, safeguarding the environment, and ensuring sustainable use, including the vital role groundwater plays, accounting for about $30\\,\\%$ of the world's fresh water and serving as a crucial source for billions of people worldwide, sustaining ecosystems, agriculture, and industry.\n",
    "\n",
    "Within this textbook, we delve into a diverse array of topics essential to understanding hydrology. From exploring the **hydrological cycle**, which elucidates the continuous movement of water through various stages, phases and compartments to examining the unique **hydrology of the Netherlands**, a country intricately tied to its relationship with water, you'll gain insights into both global and regional perspectives. We will unravel the mysteries of **precipitation**, the primary driver of the terrestrial part of the water cycle, and delve into the mechanisms of **evaporation**, which the water budget of the land surface to its energy budget. **Groundwater**, often unseen but profoundly impactful, takes center stage as we investigate its role as a vital water resource and its management for sustainability. We will analyze **rainfall-runoff relations**, the process by which precipitation transforms into surface runoff, influencing our ecosystems and water resources. This fundamental knowledge is being applied in **urban hydrology** and **water management**."
   ]
  },
  {
   "cell_type": "markdown",
   "metadata": {},
   "source": [
    "```{figure} ../images/INT_nomo_Luxembourg.jpg\n",
    "---\n",
    "width: 400px\n",
    "align: center\n",
    "name: fig:introduction_frontpage_Luxemburg\n",
    "---\n",
    "Fieldwork at the river Alzette, Luxembourg – (photo by Neijenhuis, 2022).\n",
    "``` "
   ]
  },
  {
   "cell_type": "markdown",
   "metadata": {},
   "source": [
    "## Nomenclature\n",
    "Each chapter starts with a nomenclature, which is a system of names or terms in a particular field of science. Here, it is explained which quantity within that chapter is expressed with what symbol, the dimension of that quantity and if necessary its unit. Let's recap the difference between those with some examples: the quantity *velocity* (NL: *snelheid*), symbol $v$, has dimension Length over Time [L/T] and can be expressed in various units, such as [m/s] or [$\\rm km\\,h^{-1}$]. Note that some words can mean a quantity or dimension depending on the context, for example, the quantity time $t$ has dimension Time [T] (note the difference in notation!) and can be expressed in, for example, [days], [minutes] or [hours]. Preferably, formulas do not require quantities to be filled in in specific units. For example, the formula for velocity, which is computed as distance over time: $v=s/t$ can be filled in with different units of dimension [Length] and [Time] and remains to be valid. Some empirical equations (e.g., in urban hydrology), however, contain specific constants, in that case, the appropriate units are given in the nomenclature. You may notice that different chapters use the same symbols for different quantities (e.g., $P$ can be precipitation, power or perimeter). Unfortunately, this is not entirely unavoidable, but reflects practice, and should usually be clear from the context."
   ]
  }
 ],
 "metadata": {
  "language_info": {
   "name": "python"
  },
  "orig_nbformat": 4
 },
 "nbformat": 4,
 "nbformat_minor": 2
}
