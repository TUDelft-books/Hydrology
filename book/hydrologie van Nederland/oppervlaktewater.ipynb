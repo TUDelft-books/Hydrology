{
 "cells": [
  {
   "cell_type": "markdown",
   "metadata": {},
   "source": [
    "# Surface water\n",
    "\n",
    "The Netherlands has hydrological conditions typical of a coastal area in the temperate zone. Surface water plays a crucial role in this, a role that is not the same everywhere in the Netherlands. In the low polder areas, high artificially controlled water levels are prevalent. However, in the higher regions, water levels are lower, and water drainage occurs by gravity. In some cases, a part of the watercourses may even dry up during the summer.\n",
    "\n",
    "A small portion of the precipitation flows directly over the land surface into the watercourses. However, the largest part infiltrates and joins the groundwater. Some of the groundwater quickly flows to the drainage system, while the rest seeps into the deeper aquifers and can reach the rivers only after months or years.\n",
    "\n",
    "## Rhine and Meuse\n",
    "These two rivers are of great importance for the water management of the Netherlands as a significant part of the surface water is present in them. The *Rhine* (NL: *Rijn*) and *Meuse* (NL: *Maas*) rivers exhibit several differences.\n",
    "\n",
    "```{figure} ../images/HNL_surfacewater_contributions.jpg\n",
    "---\n",
    "height: 400px\n",
    "name: graph_precip_evap.\n",
    "---\n",
    "a) Precipitation and evaporation contributions during the year. (Own work)\n",
    "```"
   ]
  },
  {
   "cell_type": "code",
   "execution_count": 2,
   "metadata": {
    "tags": [
     "remove-input"
    ]
   },
   "outputs": [],
   "source": [
    "import plotly.graph_objects as go\n",
    "import plotly.io as pio\n",
    "\n",
    "# Set the renderer for Jupyter Book compatibility\n",
    "pio.renderers.default = 'plotly_mimetype'\n",
    "\n",
    "# Data for the pie chart\n",
    "labels = ['Meuse (10%)', 'Small rivers (2%)', 'Precipitation (25%)', 'Rhine (63%)']\n",
    "sizes = [10, 2, 25, 63]\n",
    "colors = ['Gold', 'MediumTurquoise', 'LightGreen', 'LightCoral']\n",
    "\n",
    "# Create the pie chart figure\n",
    "fig = go.Figure(\n",
    "    data=[go.Pie(\n",
    "        labels=labels,\n",
    "        values=sizes,\n",
    "        hole=0.3,  # Creates a doughnut chart\n",
    "        marker=dict(colors=colors)\n",
    "    )]\n",
    ")\n",
    "\n",
    "# Update the layout for title and appearance\n",
    "fig.update_layout(\n",
    "    title_text=\"Contributions to Surface Waters in the Netherlands:\",\n",
    "    height=800,  # Adjusts the height of the chart\n",
    "    width=700,   # Adjusts the width of the chart\n",
    "    margin=dict(t=50, b=50, l=50, r=50)\n",
    ")\n",
    "\n",
    "# Display the figure - currently bugging the markdown layout in this page\n",
    "# fig.show()\n",
    "\n",
    "fig.write_image(\"../images/../images/HNL_surfacewater_pieecharts.png\", width=950, height=600, scale=2)"
   ]
  },
  {
   "cell_type": "markdown",
   "metadata": {},
   "source": [
    "```{figure} ../images/HNL_surfacewater_pieecharts.png\n",
    "---\n",
    "height: 600px\n",
    "name: pieecharts\n",
    "---\n",
    "b) Contributions to surface waters in the Netherlands."
   ]
  },
  {
   "attachments": {},
   "cell_type": "markdown",
   "metadata": {},
   "source": [
    "The Rhine river has an average flow at Lobith of 2200 m$^3$/s over a period of 50 years {cite:p}`rijkswaterstaat2`. However, the variation in water discharge throughout the year is much more critical (see {numref}`Discharge_patterns`). In January/February, the river shows an average maximum flow of 2500 m$^3$/s and an average minimum flow in October of 1700 m$^3$/s (see {numref}`Discharge_patterns`). Due to the Rhine river receiving a lot of meltwater in the summer, it is crucial for the water supply of the Netherlands during the 'dry' summer period. The Rhine is both a rain-fed and a meltwater river. The amount of meltwater reaches its peak in June when the precipitation surplus is low, resulting in relatively regular flow. In December, the situation is reversed, and the river is mainly fed by the precipitation surplus in the downstream basin below Basel.\n",
    "\n",
    "The Meuse river is a typical rain-fed river, with an average flow of about 200 m$^3$/s at Maastricht {cite:p}`rijkswaterstaat2`. In the summer, the average flow is only around 100 m$^3$/s, while in winter flows can exceed 400 m$^3$/s (see {numref}`Discharge_patterns`). The Meuse is a rain-fed river. In the past, this caused the river to almost dry up in the summer, making navigation impossible. Additionally, sudden high water levels can occur, known as Maasvloeden, where the water level can rise by up to 4 meters in a matter of days. The reason for this is that the Meuse river's basin in Belgium and upstream consists of poorly permeable rocky soil, causing the river basin to respond quickly to precipitation. Furthermore, the Meuse river bed has a relatively steep slope until Venlo, resulting in swift water flow. Despite these effects, the Meuse has caused significantly fewer floods than the Rhine and Waal rivers, as its water discharges are much smaller.\n",
    "\n",
    "\n",
    "```{figure} ../images/HNL_surfacewater_rhinemeuseriver.png\n",
    "---\n",
    "height: 400px\n",
    "name: Discharge_patterns\n",
    "---\n",
    "Discharge patterns of the Rhine and Meuse rivers. (see chapter 7.1 for the code of this figure)\n",
    "```"
   ]
  },
  {
   "cell_type": "markdown",
   "metadata": {},
   "source": []
  }
 ],
 "metadata": {
  "kernelspec": {
   "display_name": "Python 3",
   "language": "python",
   "name": "python3"
  },
  "language_info": {
   "codemirror_mode": {
    "name": "ipython",
    "version": 3
   },
   "file_extension": ".py",
   "mimetype": "text/x-python",
   "name": "python",
   "nbconvert_exporter": "python",
   "pygments_lexer": "ipython3",
   "version": "3.11.2"
  },
  "orig_nbformat": 4,
  "vscode": {
   "interpreter": {
    "hash": "5238573367df39f7286bb46f9ff5f08f63a01a80960060ce41e3c79b190280fa"
   }
  }
 },
 "nbformat": 4,
 "nbformat_minor": 2
}
