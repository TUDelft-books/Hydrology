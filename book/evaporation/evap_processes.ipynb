{
 "cells": [
  {
   "cell_type": "markdown",
   "metadata": {},
   "source": [
    "# The process of evaporation"
   ]
  },
  {
   "cell_type": "markdown",
   "metadata": {},
   "source": [
    "*Evaporation (NL: verdamping)* is the transfer of water from a liquid state into a gaseous state. Within the framework of hydrological processes, it usually means the average vertical vapor transport over an area. To evaporate water, the atmosphere should be able to hold the water vapor and there should be a transport mechanism. The latter is provided by turbulence, where eddies can transport the water vapor upwards. Turbulence can be caused by wind blowing over a rough surface (i.e., mechanical turbulence) or by radiation (i.e., buoyancy). In hydrological applications, evaporation is mostly expressed in water depth per time (e.g., mm/d), but as evaporation of water requires energy we can also express evaporation in terms of energy. Often then the term *latent heat flux (NL: latente warmtestroom)* is used and the unit is then e.g., $W/m^{2}$ or $J/m^{2}/d$ (note: 1 W = 1 J/s). Evaporation and latent heat can easily be converted into each other by multiplying the evaporation (m/s) with the density of water ($\\rho=1000$ kg/$m^{3}$) and the *latent heat of vaporization* ($\\lambda_w$). The latent heat of vaporization for a set temperature is defined as the amount of energy (Joule) used at that temperature to transfer 1 gram of water from liquid state into water vapor. The dependence of $\\lambda$ on temperature is proven to be minor. That is why $\\lambda$ is taken as a constant in practice: $\\lambda = 2.45⋅10^6$ J/kg.\n",
    "\n",
    "The beauty that the transport of water to the atmosphere can be expressed in terms of water (e.g., mm/day) or in terms of energy (e.g., W/m$^2$), enables that studying evaporation can be done by using the water balance and by using the energy balance:\n",
    "\n",
    "$$\n",
    "\\frac{\\mathrm{d}S}{\\mathrm{d}t} = P - E - Q\n",
    "$$ (water_balance)\n",
    "\n",
    "$$\n",
    "\\frac{\\textrm{d}S_Q}{\\textrm{d}t}=R_n-\\rho \\lambda E-H-G\n",
    "$$ (energy_balance)\n",
    "\n",
    "With: \n",
    "\n",
    "| | | | |\n",
    "| --- | --- | --- | --- |\n",
    "| $P$ | Net water supply per unit area (precipitation) | [L/T] |  |\n",
    "| $E$ | Evaporation | [L/T] |  |\n",
    "| $Q$ | Net water volume entering or leaving the system (discharge) | [$L^{3}/T$] | |\n",
    "| $R_n$ | Net radiation | [$M/T^{3}$] |  |\n",
    "| $H$ | Sensible heat flux | [$M/T^{3}$] | |\n",
    "| $G$ | Ground heat flux | [$M/T^{3}$] | |\n",
    "| $\\rho \\lambda E$ | Latent heat flux | [$M/T^{3}$] | [$W/m^{2}$] or [$J/m^{2}/d$] |\n",
    "\n",
    "Similar to the water balance (see [Chapter 2.2](https://teachbooks.tudelft.nl/engineering-hydrology/draft/hydrological%20cycle/water%20balance.html)), a balance can be made where the *net radiation* (*NL: netto straling*, $R_n$) can be used to:\n",
    "- evaporate water (*latent heat flux*, *NL: latente warmtestroom*, $\\rho \\lambda E$);\n",
    "- heat the atmosphere (*sensible heat flux*, *NL: convectief warmteflux* , $H$);\n",
    "- warm up the ground (*ground heat flux*, *NL:bodem warmteflux,* $G$). \n",
    "\n",
    "The difference is the heating of the globe ($\\frac{\\textrm{d}S_Q}{\\textrm{d}t}$), which can often be neglected at hydrological time scales(time scales shorter than one century).\n",
    "\n",
    "```{figure} ../images/EVA_process_gloenflow.png\n",
    "---\n",
    "height: 300px\n",
    "name: fig:5_1_1-global_energy_flow\n",
    "---\n",
    "Global energy flow – data from {cite:p}`global-energy-flows`\n",
    "```"
   ]
  },
  {
   "cell_type": "code",
   "execution_count": 39,
   "metadata": {},
   "outputs": [],
   "source": [
    "# Note that the code cell below is used for the website only"
   ]
  },
  {
   "cell_type": "markdown",
   "metadata": {},
   "source": [
    "```{exercise-start} Energy balance\n",
    ":label: example_evap_1\n",
    "```\n",
    "Consider a day with a net radiation of 100 $W/m^2$. The sensible heat flux is 20 $W/m^2$ and the \n",
    "ground heat flux is assumed to be 10% of the net radiation. There is ample water available \n",
    "in the unsaturated zone.\n",
    "\n",
    "a) What would be the latent heat in this situation in $W/m^2$?\n",
    "\n",
    "b) And the evaporation in mm/d?\n",
    "\n",
    "c) After a long dry spell the unsaturated zone is completely dried out. How will this alter the energy fluxes?\n",
    "\n",
    "```{exercise-end}\n",
    "```\n",
    "\n",
    ":::{dropdown} Answer&nbsp;{ref}`example_evap_1`a\n",
    "\n",
    "$$\n",
    "R_n = ρ* λ *E + H + G = ρ* λ *E + H + 0.1 * R_n \n",
    "$$\n",
    "Thus:\n",
    "\n",
    "$$\n",
    "ρ* λ *E = 0.9 * R_n - H = 0.9 * 100 - 20 = 70 \\ \\ [W/m^2]\n",
    "$$\n",
    ":::\n",
    "\n",
    ":::{dropdown} Answer&nbsp;{ref}`example_evap_1`b\n",
    "\n",
    "$$\n",
    "ρ* λ *E = 70 \\ \\ [W/m^2] = 70 \\ \\  [J/s/m^2] \n",
    "$$\n",
    "\n",
    "With:\n",
    "- ρ = 1000 [kg/m$^3$] \n",
    "- λ = 2.54 ⋅ 10<sup>6</sup> [J/kg]\n",
    "\n",
    "Thus: \n",
    "\n",
    "$$\n",
    "E = 2.86* 10^{-8} \\ \\ [m/s] = 2.47 \\ \\ [m/d] \n",
    "$$  \n",
    ":::\n",
    "\n",
    ":::{dropdown} Answer&nbsp;{ref}`example_evap_1`c\n",
    "\n",
    "Assume R<sub>n</sub> remains the same and G is still 10% of R<sub>n</sub>. <br> \n",
    "No water => no evaporation, thus E = 0. As a consequence, H should increase with 70 \n",
    "$W/m^2$, meaning that the temperature will increase.\n",
    "\n",
    ":::\n"
   ]
  },
  {
   "cell_type": "markdown",
   "metadata": {},
   "source": [
    "(evap_types)=\n",
    "## Types of evaporation\n",
    "\n",
    "Evaporation can occur from any water surface, the soil, or via vegetation. A water surface can be open water (e.g., a lake, pool, pond), or any (temporarily) wet surface (e.g., a wet canopy, a wet roof). Evaporation from a wet surface is also called *interception evaporation*, as a part of the rainfall is intercepted and temporarily stored on the wetted surface from where it can evaporate. Open water evaporation (*NL: open waterverdamping*), interception evaporation (*NL: interceptieverdamping*) and soil evaporation (*NL: bodemverdamping*) are also called *direct evaporation* or *non-productive evaporation* (*NL: niet-productieve verdamping*). This is opposite to _indirect_ or *productive evaporation*, where water is transported via plants. The term productive relates to the fact that biomass is formed as well.\n",
    "\n",
    "- Direct/non-productive evaporation:\n",
    "    - Open water evaporation, $E_o$  [L/T]: \n",
    "    This is the amount of vaporized water within a certain time from an open water surface. The availability of the water is hereby not restricted. \n",
    "    - Soil evaporation, $E_s$ [L/T]:\n",
    "    The water that is vaporized is soil moisture. When the moisture content is limited, the evaporation is more constrained. \n",
    "    - Interception evaporation, $E_i$ [L/T]:\n",
    "    Evaporation from the wet surface after rainfall. It contains evaporation from all wet surfaces: vegetation, paved surfaces, dropped leaves, bare soil, etc. So more than just interception by leaves. \n",
    "    <p>\n",
    "- Indirect/non-productive evaporation:\n",
    "    - Transpiration (*NL: transpiratie*) $E_t$ [L/T]: \n",
    "    The transfer of water into the atmosphere through the stomata of living plants. Just a very small amount of the water absorbed by plants from the soil remains inside the plant itself. The major part vaporizes from the leaves. Because of the influence of solar radiation, transpiration occurs primarily during daytime. At night the pores close and little water leaves the plant. An exception is for instance the cactus (the stomata only open at night). \n",
    "\n",
    "To summarize, direct evaporation is the transfer of liquid into vapor by molecules that escape the water surface; transpiration is a physiological process of water molecules transferring by gas exchange in the stomata from the vegetation into the atmosphere. \n",
    "    \n",
    "The total amount of water vapor transported to the atmosphere is the sum of all occurrences of evaporation:\n",
    "\n",
    "$$\n",
    "    E_{tot} =  E_o + E_s + E_i + E_t \n",
    "$$ (tot_evap)\n",
    "\n",
    "With: \n",
    "\n",
    "| | | | |\n",
    "| --- | --- | --- | --- |\n",
    "| $E_{tot}$ | Total evaporation | [L/T] |  |\n",
    "| $E_o$ | Open water evaporation | [L/T] |  |\n",
    "| $E_s$ | Soil evaporation | [L/T] |  |\n",
    "| $E_i$ | Interception evaporation | [L/T] |  |\n",
    "| $E_t$ | Transpiration | [L/T] |  |\n",
    "\n",
    "Sometimes in literature, this term is wrongly referred to as *evapotranspiration* {cite:p}`savenije-2004, miralles-2020`. If this term is used, it is recommended to carefully check what is meant by evapotranspiration as sometimes the total evaporation is meant, but sometimes evapotranspiration only refers to the transpiration process."
   ]
  },
  {
   "cell_type": "markdown",
   "metadata": {},
   "source": [
    "## Definitions\n",
    "As hydrologists, we would like to know the actual amount of water vapor that is transported to the atmosphere. However, determining this actual amount is very difficult as measuring evaporation is neither easy nor cheap (see later [section 5.2](https://teachbooks.tudelft.nl/engineering-hydrology/draft/evaporation/evap_measurements.html)) resulting in limited data availability about actual evaporation. Easier to determine is the maximum amount of water that could evaporate if there is no restriction on the water available. This maximum amount is called the *potential evaporation* (*NL: potentiele verdamping*, $E_p$)  and often only requires meteorological input. Potential evaporation does not consider the water availability and therefore should be seen as an upper boundary of the maximum possible amount of evaporation. If water is abundant, actual and potential evaporation are equal. But as soon as the water availability drops, the actual evaporation ($E_a$) will also drop. Thus per definition: $E_a \\leq E_p $ [L/T]. If there is no water $E_a$ will be zero, but the potential evaporation can still be high.\n",
    "\n",
    "Farmers also often use estimates of potential evaporation to determine how much irrigation water their crops need. However, for this purpose, they also have to consider that the potential evaporation of a crop is not only dependent on meteorological input. Crops have a certain resistance against evaporation (stomata opening and closing costs energy) causing the potential evaporation of a crop to be lower in comparison to the potential evaporation of e.g., a lake. A widely used framework to estimate the potential evaporation of a crop ($E_{p, crop}$) is the framework of the Food and Agriculture Organization (FAO) of the United Nations {cite:p}`allen-1998`. They defined the so-called _reference evaporation_ (*NL: referentieverdamping*, $E_{ref}$), which is the potential evaporation of a well-watered grass field of 12 cm height:\n",
    "\n",
    "$$\n",
    "E_{ref} = E_{p, grass} \n",
    "\\quad \\text{[L/T]} \n",
    "$$ (ref_evap)\n",
    "\n",
    "With: \n",
    "\n",
    "| | | | |\n",
    "| --- | --- | --- | --- |\n",
    "| $E_{ref}$ | Reference evaporation | [L/T] |  |\n",
    "\n",
    "In literature (e.g., {cite:t}`allen-1998`) tables can be found that describe the relation between this reference crop (i.e., grass) and other crops by means of a crop factor ($k_c$). This crop factor can also consider the growing stage of the plant. The FAO-method assumes that there is a linear relation between the reference evaporation and the potential evaporation of a crop in a certain growing stage:\n",
    "\n",
    "$$\n",
    "E_{p, crop} = k_c \\times E_{ref} \n",
    "\\quad \\text{[L/T]} \n",
    "$$ (crop_evap)\n",
    "\n",
    "With: \n",
    "\n",
    "| | | | |\n",
    "| --- | --- | --- | --- |\n",
    "| $E_{p, crop}$ | Potential evaporation of a crop | [L/T] | |\n",
    "| $k_c$ | Crop factor | [-] |  |\n",
    "| $E_{ref}$ | Reference evaporation | [L/T] |  |\n",
    "\n",
    "Similarly, the FAO-method also assumes a linear relation between potential and actual evaporation. For this purpose, they defined a *stress factor* ($k_s$), which accounts for water shortage:\n",
    "\n",
    "$$\n",
    "E_{a, crop} = k_s \\times E_{p, crop}\n",
    "\\quad \\text{[L/T]} \n",
    "$$ (shortage_crop)\n",
    "\n",
    "With: \n",
    "\n",
    "| | | | |\n",
    "| --- | --- | --- | --- |\n",
    "| $E_{p, crop}$ | Potential evaporation of a crop | [L/T] | |\n",
    "| $k_s$ | Stress factor | [-] |  |\n",
    "| $E_{ref}$ | Reference evaporation | [L/T] |  |\n",
    "\n",
    "If water is abundant, $k_s$ equals one. If no water is available, $k_s$ drops to zero. As actual evaporation is per definition lower than the potential evaporation, $k_{s}$ is per definition smaller or equal to one. \n",
    "\n",
    "Although the FAO-method is from a practical point of view very easy to use, its physical meaning is doubtful as the determination of the crop and stress factors are highly empirical and difficult to determine in practice.\n"
   ]
  },
  {
   "cell_type": "markdown",
   "metadata": {},
   "source": [
    "## Factors influencing evaporation\n",
    "\n",
    "The energy for evaporation is, directly or indirectly, provided by solar radiation. The amount of radiation that is available for evaporation depends on the latitude, the time of the year, atmospheric conditions like the cloudiness, reflection by the Earth's surface, atmospheric absorption and storage capacity of the ground or the water. To keep the process of evaporation going, the water vapor has to be removed from the evaporating surface (e.g., by wind). This is a process of diffusion and turbulent transport which is affected by the humidity and temperature of the air, the roughness of the surface and the wind speed. For plants, the resistance to flow of water inside the plant and the percentage of the soil covered by crops do influence evaporation rates as well.\n",
    "\n",
    "Thus the (potential) evaporation is affected by factors which are determined by:\n",
    "- a. Evaporation surface\n",
    "- b. Atmospheric conditions\n",
    "\n",
    "Hereafter we will elaborate on the important influencing factors.\n",
    "\n",
    "For a bare evaporation surface or with open water (i.e., direct evaporation), the following factors are important:\n",
    "- a.1. <b>Reflection coefficient (*albedo*):</b> As solar radiation hits the surface a part of this radiation will be reflected back. The surface properties determine how much radiation is reflected. For example a black surface (e.g., water) will absorb a high amount, while a white surface (e.g., snow) will reflect almost all of the incoming solar radiation. Typical values for the reflection coefficient or albedo ($r$) of solar radiation reaching the earth's surface are given in table {numref}`tab:Albedo`. For the influence of reflection on evaporation see the paragraph about solar radiation.\n",
    "\n",
    ":::{table} Albedo ($r$) for different surfaces {cite:p}`Brutsaert2005`\n",
    ":name: tab:albedo\n",
    "\n",
    "| Surface | Albedo |\n",
    "| --- | --- | \n",
    "| Open water surface | 0.04 - 0.08 |\n",
    "| Grass | 0.15 - 0.25 |\n",
    "| Bare fields | 0.15 - 0.25 |\n",
    "| Fresh snow | 0.80 - 0.90 |\n",
    ":::\n",
    "\n",
    "- a.2. <b>Roughness of the surface</b>: The turbulent transport of water vapor from the evaporating surface into the atmosphere is largely determined by the roughness (e.g., crop height) of the surface. The resistance to this transport is called the aerodynamic resistance ($r_a$) and may for a specific surface (roughness) be written as a function of the wind speed (see the paragraph about wind velocity). For a rough surface, the (mechanical) turbulence is higher so water can be transported more easily. This results in a lower aerodynamic resistance value and a higher evaporation rate.\n",
    "\n",
    "- a.3. <b>Heat storage capacity</b>: In climates with a distinct summer and winter period, part of the energy that becomes available in spring is used to warm up the surface. This energy is released during the next autumn and winter. A deep lake or wet soil has a large heat storage capacity. Hence, the evaporating surface will remain relatively cold during spring which affects the evaporation. The subsequent release of heat during the autumn and winter causes a phase shift in the evaporation cycle of deep lakes as compared to shallow lakes. In the case of soil, this heat exchange is called the *ground heat flux* ($G$).\n",
    "\n",
    "For a surface with vegetation, two factors are added:\n",
    "- a.4. <b>Fraction covered</b>: The fraction of soil that is covered by the crop directly affects the transpiration of the area.\n",
    "- a.5. <b>Crop resistance</b>: Transpiration of a cropped surface is usually less than the evaporation of an open water surface due to the additional resistance of water transport in the plant and the transfer of water vapor through the stomata. This additional resistance is called *crop resistance*, $r_c$. For tall crops, however, the increased turbulence lowers the aerodynamic resistance $r_a$ which may result in higher values for the transpiration as compared to open water evaporation. The crop resistance is often taken from literature or can be estimated by e.g., the Jarvis-model {cite:p}`jarvis-1976` where solar radiation, temperature, vapor pressure deficit, and leaf water potential determine the crop resistance. This model also accounts for the water availability. As there is no water the $r_{c}$ will become infinite. Although the crop resistance and the crop factor of the FAO-method ($k_c$) are related, they should not be mixed up.\n",
    "\n",
    "\n",
    "The atmospheric conditions which influence the evaporation:\n",
    "- b.1. <b>Wind velocity</b>: The aerodynamic resistance to water vapor transport $r_a$ [T/L] is a function of the wind speed. Wind speed is measured with anemometers and is a function of the height above the surface. Values that apply for a height of 2 m are generally used to estimate evaporation. The wind speed of other heights can by approximation be conversed to wind speed at 2 m. The aerodynamic resistance to water vapor transport is computed with the formula {cite:p}`penman-1956`: \n",
    "\n",
    "$$\n",
    "r_a = \\frac{245}{(0.54u_2+0.5)} \n",
    "$$ (areodynamic_resis)\n",
    "\n",
    " with $r_a$ in s/m, and $u_2$ as the wind speed (m/s) measured at a height of two meters.\n",
    "\n",
    "- b.2. <b>Relative humidity</b> (*NL: relatieve vochtigheid*): Evaporation is very sensitive to the humidity of the air at a constant temperature. If the atmosphere is completely saturated, evaporation is difficult: the atmosphere can not hold more water vapor. The *relative humidity* expresses the amount of water vapor present in air expressed as a percentage of the amount needed for saturation at the same temperature. Humidity is often expressed in terms of vapor pressure (kPa). Vapor pressure is the pressure of water particles in the atmosphere. If the atmosphere is completely saturated, the pressure equals the *saturated vapor pressure* (*NL: verzadigingsdampspanning*), $e_s$. Saturated vapor pressure is a function of temperature $T$: the higher the temperature, the more water can be stored in the atmosphere. The relation between temperature $T$ and $e_s$ is called the Clausius Clapeyron equation {cite:p}`koutsoyiannis-2012`:\n",
    "\n",
    "$$\n",
    "e_s(T) = 0.61 \\exp \\bigg(\\frac{19.9T}{273+T}\\bigg)\n",
    "\\quad \\text{[kPa]}\n",
    "$$ (esT)\n",
    "\n",
    "where $T$ is the temperature in °C. In figure {numref}`fig:verzadigingsdamping` the equation is shown as a graph.\n",
    "\n"
   ]
  },
  {
   "cell_type": "code",
   "execution_count": null,
   "metadata": {
    "tags": [
     "remove-input"
    ]
   },
   "outputs": [
    {
     "data": {
      "application/vnd.plotly.v1+json": {
       "config": {
        "plotlyServerURL": "https://plot.ly"
       },
       "data": [
        {
         "line": {
          "color": "red",
          "width": 2
         },
         "mode": "lines",
         "name": "e<sub>s</sub>(T)",
         "type": "scatter",
         "x": [
          -20,
          -19.79933110367893,
          -19.598662207357858,
          -19.39799331103679,
          -19.19732441471572,
          -18.99665551839465,
          -18.795986622073578,
          -18.59531772575251,
          -18.39464882943144,
          -18.193979933110366,
          -17.993311036789297,
          -17.792642140468228,
          -17.591973244147155,
          -17.391304347826086,
          -17.190635451505017,
          -16.989966555183948,
          -16.789297658862875,
          -16.588628762541806,
          -16.387959866220736,
          -16.187290969899664,
          -15.986622073578594,
          -15.785953177257525,
          -15.585284280936456,
          -15.384615384615383,
          -15.183946488294314,
          -14.983277591973245,
          -14.782608695652174,
          -14.581939799331103,
          -14.381270903010034,
          -14.180602006688963,
          -13.979933110367892,
          -13.779264214046822,
          -13.578595317725753,
          -13.377926421404682,
          -13.177257525083611,
          -12.976588628762542,
          -12.775919732441471,
          -12.5752508361204,
          -12.37458193979933,
          -12.173913043478262,
          -11.97324414715719,
          -11.77257525083612,
          -11.57190635451505,
          -11.37123745819398,
          -11.17056856187291,
          -10.96989966555184,
          -10.769230769230768,
          -10.568561872909699,
          -10.367892976588628,
          -10.167224080267559,
          -9.966555183946488,
          -9.765886287625419,
          -9.565217391304348,
          -9.364548494983277,
          -9.163879598662207,
          -8.963210702341136,
          -8.762541806020067,
          -8.561872909698996,
          -8.361204013377925,
          -8.160535117056856,
          -7.959866220735785,
          -7.759197324414716,
          -7.558528428093645,
          -7.357859531772576,
          -7.157190635451505,
          -6.956521739130434,
          -6.7558528428093645,
          -6.5551839464882935,
          -6.354515050167224,
          -6.153846153846153,
          -5.953177257525084,
          -5.752508361204013,
          -5.551839464882942,
          -5.351170568561873,
          -5.150501672240802,
          -4.949832775919733,
          -4.749163879598662,
          -4.548494983277591,
          -4.3478260869565215,
          -4.1471571906354505,
          -3.9464882943143813,
          -3.745819397993312,
          -3.5451505016722393,
          -3.34448160535117,
          -3.143812709030101,
          -2.943143812709028,
          -2.742474916387959,
          -2.5418060200668897,
          -2.3411371237458205,
          -2.1404682274247477,
          -1.9397993311036785,
          -1.7391304347826093,
          -1.5384615384615365,
          -1.3377926421404673,
          -1.1371237458193981,
          -0.9364548494983289,
          -0.7357859531772561,
          -0.5351170568561869,
          -0.3344481605351177,
          -0.13377926421404496,
          0.06688963210702425,
          0.26755852842809347,
          0.4682274247491627,
          0.6688963210702354,
          0.8695652173913047,
          1.0702341137123739,
          1.2709030100334466,
          1.4715719063545158,
          1.672240802675585,
          1.8729096989966578,
          2.073578595317727,
          2.2742474916387962,
          2.4749163879598655,
          2.6755852842809382,
          2.8762541806020074,
          3.0769230769230766,
          3.2775919732441494,
          3.4782608695652186,
          3.678929765886288,
          3.879598662207357,
          4.08026755852843,
          4.280936454849499,
          4.481605351170568,
          4.682274247491641,
          4.88294314381271,
          5.083612040133779,
          5.284280936454849,
          5.484949832775921,
          5.685618729096991,
          5.88628762541806,
          6.086956521739133,
          6.287625418060202,
          6.488294314381271,
          6.68896321070234,
          6.889632107023413,
          7.090301003344482,
          7.290969899665551,
          7.491638795986624,
          7.692307692307693,
          7.892976588628763,
          8.093645484949832,
          8.294314381270905,
          8.494983277591974,
          8.695652173913043,
          8.896321070234116,
          9.096989966555185,
          9.297658862876254,
          9.498327759197323,
          9.698996655518396,
          9.899665551839465,
          10.100334448160535,
          10.301003344481607,
          10.501672240802677,
          10.702341137123746,
          10.903010033444819,
          11.103678929765888,
          11.304347826086957,
          11.505016722408026,
          11.705685618729099,
          11.906354515050168,
          12.107023411371237,
          12.307692307692307,
          12.508361204013376,
          12.709030100334452,
          12.909698996655521,
          13.11036789297659,
          13.31103678929766,
          13.511705685618729,
          13.712374581939798,
          13.913043478260867,
          14.113712374581944,
          14.314381270903013,
          14.515050167224082,
          14.715719063545151,
          14.91638795986622,
          15.11705685618729,
          15.317725752508359,
          15.518394648829435,
          15.719063545150505,
          15.919732441471574,
          16.120401337792643,
          16.321070234113712,
          16.52173913043478,
          16.72240802675585,
          16.923076923076927,
          17.123745819397996,
          17.324414715719065,
          17.525083612040135,
          17.725752508361204,
          17.926421404682273,
          18.127090301003342,
          18.32775919732442,
          18.528428093645488,
          18.729096989966557,
          18.929765886287626,
          19.130434782608695,
          19.331103678929765,
          19.531772575250834,
          19.73244147157191,
          19.93311036789298,
          20.13377926421405,
          20.334448160535118,
          20.535117056856187,
          20.735785953177256,
          20.936454849498325,
          21.1371237458194,
          21.33779264214047,
          21.53846153846154,
          21.73913043478261,
          21.93979933110368,
          22.140468227424748,
          22.341137123745817,
          22.541806020066893,
          22.742474916387962,
          22.94314381270903,
          23.1438127090301,
          23.34448160535117,
          23.54515050167224,
          23.745819397993316,
          23.946488294314385,
          24.147157190635454,
          24.347826086956523,
          24.548494983277592,
          24.74916387959866,
          24.94983277591973,
          25.150501672240807,
          25.351170568561876,
          25.551839464882946,
          25.752508361204015,
          25.953177257525084,
          26.153846153846153,
          26.354515050167223,
          26.5551839464883,
          26.755852842809368,
          26.956521739130437,
          27.157190635451506,
          27.357859531772576,
          27.558528428093645,
          27.759197324414714,
          27.95986622073579,
          28.16053511705686,
          28.36120401337793,
          28.561872909698998,
          28.762541806020067,
          28.963210702341136,
          29.163879598662206,
          29.364548494983282,
          29.56521739130435,
          29.76588628762542,
          29.96655518394649,
          30.16722408026756,
          30.367892976588628,
          30.568561872909697,
          30.769230769230774,
          30.969899665551843,
          31.170568561872912,
          31.37123745819398,
          31.57190635451505,
          31.77257525083612,
          31.97324414715719,
          32.173913043478265,
          32.374581939799334,
          32.575250836120404,
          32.77591973244147,
          32.97658862876254,
          33.17725752508361,
          33.37792642140468,
          33.57859531772576,
          33.779264214046826,
          33.979933110367895,
          34.180602006688964,
          34.381270903010034,
          34.5819397993311,
          34.78260869565217,
          34.98327759197325,
          35.18394648829432,
          35.38461538461539,
          35.585284280936456,
          35.785953177257525,
          35.986622073578594,
          36.187290969899664,
          36.38795986622074,
          36.58862876254181,
          36.78929765886288,
          36.98996655518395,
          37.19063545150502,
          37.391304347826086,
          37.591973244147155,
          37.79264214046823,
          37.9933110367893,
          38.19397993311037,
          38.39464882943144,
          38.59531772575251,
          38.79598662207358,
          38.99665551839465,
          39.19732441471572,
          39.39799331103679,
          39.59866220735786,
          39.79933110367893,
          40
         ],
         "y": [
          0.12651190665878714,
          0.12868331991761534,
          0.13088847475589957,
          0.1331278380078051,
          0.13540188212063436,
          0.1377110852112497,
          0.14005593112293707,
          0.1424369094827129,
          0.14485451575907665,
          0.14730925132021036,
          0.14980162349262865,
          0.15233214562028066,
          0.15490133712410595,
          0.1575097235620473,
          0.16015783668952221,
          0.16284621452035553,
          0.16557540138817486,
          0.16834594800827196,
          0.17115841153993142,
          0.17401335564922998,
          0.1769113505723069,
          0.17985297317910998,
          0.1828388070376174,
          0.18586944247853873,
          0.18894547666049713,
          0.19206751363569485,
          0.19523616441606423,
          0.19845204703990688,
          0.20171578663902243,
          0.2050280155063303,
          0.20838937316398512,
          0.21180050643199,
          0.21526206949730786,
          0.21877472398347472,
          0.22233913902071625,
          0.22595599131656968,
          0.22962596522701462,
          0.23334975282811316,
          0.23712805398816272,
          0.2409615764403641,
          0.24485103585600543,
          0.24879715591816612,
          0.2528006683959417,
          0.2568623132191925,
          0.26098283855381815,
          0.26516300087755973,
          0.2694035650563328,
          0.2737053044210922,
          0.27806900084523245,
          0.2824954448225242,
          0.28698543554559036,
          0.2915397809849232,
          0.29615929796844587,
          0.30084481226161813,
          0.30559715864809167,
          0.3104171810109149,
          0.31530573241429,
          0.3202636751858847,
          0.3252918809997013,
          0.33039123095950385,
          0.3355626156828073,
          0.3408069353854295,
          0.34612509996660923,
          0.3515180290946912,
          0.3569866522933823,
          0.36253190902857807,
          0.3681547487957657,
          0.37385613120800176,
          0.37963702608446903,
          0.3854984135396146,
          0.39144128407287043,
          0.39746663865895937,
          0.4035754888387879,
          0.4097688568109291,
          0.4160477755236967,
          0.4224132887678127,
          0.42886645126967154,
          0.4354083287852015,
          0.4420399981943267,
          0.4487625475960315,
          0.45557707640402845,
          0.46248469544303417,
          0.4694865270456524,
          0.47658370514986875,
          0.4837773753971579,
          0.4910686952312061,
          0.4984588339972497,
          0.5059489730420349,
          0.5135403058143961,
          0.5212340379664598,
          0.5290313874554727,
          0.5369335846462572,
          0.5449418724142975,
          0.5530575062494559,
          0.5612817543603242,
          0.5696158977792092,
          0.5780612304677578,
          0.5866190594232198,
          0.5952907047853546,
          0.6040774999439806,
          0.6129807916471701,
          0.6220019401100935,
          0.6311423191245124,
          0.6404033161689245,
          0.649786332519363,
          0.659292783360852,
          0.6689240978995192,
          0.6786817194753684,
          0.6885671056757152,
          0.698581728449285,
          0.7087270742209767,
          0.7190046440072966,
          0.7294159535324584,
          0.7399625333451578,
          0.7506459289360191,
          0.7614677008557175,
          0.7724294248337797,
          0.7835326918980626,
          0.7947791084949142,
          0.8061702966100169,
          0.8177078938899167,
          0.8293935537642383,
          0.84122894556859,
          0.8532157546681581,
          0.8653556825819954,
          0.8776504471080024,
          0.8901017824486062,
          0.9027114393371359,
          0.9154811851648996,
          0.9284128041089618,
          0.9415080972606253,
          0.9547688827546168,
          0.9681969958989826,
          0.9817942893056899,
          0.995562633021941,
          1.0095039146621987,
          1.0236200395409278,
          1.0379129308060502,
          1.052384529573119,
          1.0670367950602118,
          1.0818717047235473,
          1.0968912543938203,
          1.1120974584132652,
          1.1274923497734448,
          1.143077980253767,
          1.1588564205607303,
          1.174829760467902,
          1.1910001089566307,
          1.2073695943574896,
          1.2239403644924587,
          1.2407145868178464,
          1.2576944485679484,
          1.274882156899448,
          1.292279939036559,
          1.3098900424169178,
          1.3277147348382123,
          1.3457563046055683,
          1.3640170606796778,
          1.3824993328256825,
          1.4012054717628062,
          1.420137849314746,
          1.4392988585608115,
          1.4586909139878286,
          1.478316451642797,
          1.4981779292863069,
          1.5182778265467227,
          1.538618645075123,
          1.5592029087010086,
          1.5800331635887768,
          1.6011119783949588,
          1.622441944426232,
          1.6440256757981941,
          1.6658658095949195,
          1.6879650060292792,
          1.7103259486040387,
          1.73295134427373,
          1.7558439236073071,
          1.7790064409515693,
          1.8024416745953702,
          1.8261524269346108,
          1.8501415246380084,
          1.8744118188136538,
          1.8989661851763517,
          1.9238075242157457,
          1.948938761365236,
          1.9743628471716796,
          2.000082757465887,
          2.0261014935339037,
          2.0524220822890906,
          2.0790475764449914,
          2.105981054689004,
          2.133225621856836,
          2.16078440910777,
          2.188660574100718,
          2.2168573011710806,
          2.2453778015084076,
          2.2742253133348536,
          2.3034031020844465,
          2.3329144605831527,
          2.3627627092297487,
          2.392951196177504,
          2.4234832975166687,
          2.4543624174577605,
          2.48559198851568,
          2.51717547169462,
          2.5491163566737955,
          2.581418161993977,
          2.614084435244851,
          2.647118753253186,
          2.680524722271812,
          2.714305978169424,
          2.748466186621196,
          2.783009043300221,
          2.817938274069756,
          2.853257635176311,
          2.8889709134435306,
          2.9250819264669228,
          2.961594522809395,
          2.9985125821976153,
          3.035840015719204,
          3.0735807660207515,
          3.1117388075066486,
          3.150318146538765,
          3.1893228216369347,
          3.228756903680284,
          3.2686244961093824,
          3.3089297351292206,
          3.3496767899130337,
          3.3908698628069347,
          3.4325131895353964,
          3.474611039407561,
          3.517167715524375,
          3.5601875549865807,
          3.603674929103507,
          3.6476342436027367,
          3.6920699388405778,
          3.73698649001338,
          3.7823884073697016,
          3.828280236423298,
          3.8746665581669464,
          3.921551989287132,
          3.9689411823795457,
          4.016838826165445,
          4.065249645708841,
          4.114178402634519,
          4.163629895346933,
          4.213608959249906,
          4.264120466967184,
          4.315169328563852,
          4.36676049176856,
          4.418898942196619,
          4.471589703573932,
          4.524837837961759,
          4.57864844598235,
          4.6330266670453915,
          4.687977679575339,
          4.743506701239552,
          4.799618989177301,
          4.8563198402296175,
          4.913614591169985,
          4.971508618935885,
          5.030007340861169,
          5.089116214909307,
          5.148840739907474,
          5.209186455781454,
          5.270158943791446,
          5.331763826768672,
          5.394006769352852,
          5.456893478230528,
          5.520429702374233,
          5.5846212332825065,
          5.64947390522077,
          5.714993595463024,
          5.78118622453443,
          5.848057756454718,
          5.91561419898243,
          5.983861603860064,
          6.052806067059992,
          6.122453729031305,
          6.192810774947446,
          6.263883434954719,
          6.335677984421646,
          6.408200744189159,
          6.481458080821665,
          6.5554564068589345,
          6.630202181068848,
          6.705701908700991,
          6.781962141741107,
          6.858989479166358,
          6.936790567201499,
          7.015372099575842,
          7.094740817781091,
          7.174903511330027,
          7.2558670180160165,
          7.337638224173411,
          7.4202240649387425,
          7.503631524512786,
          7.5878676364234945,
          7.672939483789724,
          7.758854199585854
         ]
        },
        {
         "marker": {
          "color": "blue",
          "size": 8
         },
         "mode": "markers",
         "name": "T<sub>a</sub>",
         "type": "scatter",
         "x": [
          27.5
         ],
         "y": [
          3.769095777113588
         ]
        },
        {
         "marker": {
          "color": "green",
          "size": 8
         },
         "mode": "markers",
         "name": "T<sub>d</sub>",
         "type": "scatter",
         "x": [
          16.404189580855338
         ],
         "y": [
          1.8845478885567852
         ]
        },
        {
         "marker": {
          "color": "orange",
          "size": 8
         },
         "mode": "markers",
         "name": "T<sub>w</sub>",
         "type": "scatter",
         "x": [
          25.000000000000004
         ],
         "y": [
          3.238682999179891
         ]
        }
       ],
       "layout": {
        "annotations": [
         {
          "arrowcolor": "black",
          "arrowhead": 3,
          "arrowsize": 1.5,
          "arrowwidth": 2,
          "ax": 27.5,
          "axref": "x",
          "ay": 1.8845478885567852,
          "ayref": "y",
          "font": {
           "color": "black",
           "size": 16
          },
          "showarrow": true,
          "text": "P",
          "x": 25.000000000000004,
          "xref": "x",
          "y": 3.238682999179891,
          "yref": "y"
         },
         {
          "arrowcolor": "black",
          "arrowhead": 3,
          "arrowsize": 1.5,
          "arrowwidth": 2,
          "ax": 27.5,
          "axref": "x",
          "ay": 1.8845478885567852,
          "ayref": "y",
          "font": {
           "color": "black",
           "size": 16
          },
          "showarrow": false,
          "text": "Q",
          "x": 25.000000000000004,
          "xanchor": "right",
          "xref": "x",
          "y": 3.238682999179891,
          "yanchor": "bottom",
          "yref": "y"
         },
         {
          "font": {
           "color": "blue",
           "size": 12
          },
          "showarrow": false,
          "text": "T<sub>a</sub>",
          "x": 27.5,
          "y": 0,
          "yanchor": "top"
         },
         {
          "font": {
           "color": "green",
           "size": 12
          },
          "showarrow": false,
          "text": "T<sub>d</sub>",
          "x": 16.404189580855338,
          "y": 0,
          "yanchor": "top"
         },
         {
          "font": {
           "color": "orange",
           "size": 12
          },
          "showarrow": false,
          "text": "T<sub>w</sub>",
          "x": 25.000000000000004,
          "y": 0,
          "yanchor": "top"
         },
         {
          "font": {
           "color": "blue",
           "size": 12
          },
          "showarrow": false,
          "text": "e<sub>s</sub>",
          "x": -20,
          "xanchor": "right",
          "y": 3.769095777113588
         },
         {
          "font": {
           "color": "green",
           "size": 12
          },
          "showarrow": false,
          "text": "e<sub>a</sub>",
          "x": -20,
          "xanchor": "right",
          "y": 1.8845478885567852
         },
         {
          "font": {
           "color": "orange",
           "size": 12
          },
          "showarrow": false,
          "text": "e<sub>w</sub>",
          "x": -20,
          "xanchor": "right",
          "y": 3.238682999179891
         }
        ],
        "height": 600,
        "margin": {
         "b": 100
        },
        "shapes": [
         {
          "line": {
           "color": "blue",
           "dash": "dash"
          },
          "type": "line",
          "x0": -20,
          "x1": 27.5,
          "y0": 3.769095777113588,
          "y1": 3.769095777113588
         },
         {
          "line": {
           "color": "blue",
           "dash": "dash"
          },
          "type": "line",
          "x0": 27.5,
          "x1": 27.5,
          "y0": 0,
          "y1": 3.769095777113588
         },
         {
          "line": {
           "color": "green",
           "dash": "dash"
          },
          "type": "line",
          "x0": -20,
          "x1": 16.404189580855338,
          "y0": 1.8845478885567852,
          "y1": 1.8845478885567852
         },
         {
          "line": {
           "color": "green",
           "dash": "dash"
          },
          "type": "line",
          "x0": 16.404189580855338,
          "x1": 16.404189580855338,
          "y0": 0,
          "y1": 1.8845478885567852
         },
         {
          "line": {
           "color": "orange",
           "dash": "dash"
          },
          "type": "line",
          "x0": -20,
          "x1": 25.000000000000004,
          "y0": 3.238682999179891,
          "y1": 3.238682999179891
         },
         {
          "line": {
           "color": "orange",
           "dash": "dash"
          },
          "type": "line",
          "x0": 25.000000000000004,
          "x1": 25.000000000000004,
          "y0": 0,
          "y1": 3.238682999179891
         }
        ],
        "showlegend": true,
        "template": {
         "data": {
          "bar": [
           {
            "error_x": {
             "color": "#2a3f5f"
            },
            "error_y": {
             "color": "#2a3f5f"
            },
            "marker": {
             "line": {
              "color": "#E5ECF6",
              "width": 0.5
             },
             "pattern": {
              "fillmode": "overlay",
              "size": 10,
              "solidity": 0.2
             }
            },
            "type": "bar"
           }
          ],
          "barpolar": [
           {
            "marker": {
             "line": {
              "color": "#E5ECF6",
              "width": 0.5
             },
             "pattern": {
              "fillmode": "overlay",
              "size": 10,
              "solidity": 0.2
             }
            },
            "type": "barpolar"
           }
          ],
          "carpet": [
           {
            "aaxis": {
             "endlinecolor": "#2a3f5f",
             "gridcolor": "white",
             "linecolor": "white",
             "minorgridcolor": "white",
             "startlinecolor": "#2a3f5f"
            },
            "baxis": {
             "endlinecolor": "#2a3f5f",
             "gridcolor": "white",
             "linecolor": "white",
             "minorgridcolor": "white",
             "startlinecolor": "#2a3f5f"
            },
            "type": "carpet"
           }
          ],
          "choropleth": [
           {
            "colorbar": {
             "outlinewidth": 0,
             "ticks": ""
            },
            "type": "choropleth"
           }
          ],
          "contour": [
           {
            "colorbar": {
             "outlinewidth": 0,
             "ticks": ""
            },
            "colorscale": [
             [
              0,
              "#0d0887"
             ],
             [
              0.1111111111111111,
              "#46039f"
             ],
             [
              0.2222222222222222,
              "#7201a8"
             ],
             [
              0.3333333333333333,
              "#9c179e"
             ],
             [
              0.4444444444444444,
              "#bd3786"
             ],
             [
              0.5555555555555556,
              "#d8576b"
             ],
             [
              0.6666666666666666,
              "#ed7953"
             ],
             [
              0.7777777777777778,
              "#fb9f3a"
             ],
             [
              0.8888888888888888,
              "#fdca26"
             ],
             [
              1,
              "#f0f921"
             ]
            ],
            "type": "contour"
           }
          ],
          "contourcarpet": [
           {
            "colorbar": {
             "outlinewidth": 0,
             "ticks": ""
            },
            "type": "contourcarpet"
           }
          ],
          "heatmap": [
           {
            "colorbar": {
             "outlinewidth": 0,
             "ticks": ""
            },
            "colorscale": [
             [
              0,
              "#0d0887"
             ],
             [
              0.1111111111111111,
              "#46039f"
             ],
             [
              0.2222222222222222,
              "#7201a8"
             ],
             [
              0.3333333333333333,
              "#9c179e"
             ],
             [
              0.4444444444444444,
              "#bd3786"
             ],
             [
              0.5555555555555556,
              "#d8576b"
             ],
             [
              0.6666666666666666,
              "#ed7953"
             ],
             [
              0.7777777777777778,
              "#fb9f3a"
             ],
             [
              0.8888888888888888,
              "#fdca26"
             ],
             [
              1,
              "#f0f921"
             ]
            ],
            "type": "heatmap"
           }
          ],
          "heatmapgl": [
           {
            "colorbar": {
             "outlinewidth": 0,
             "ticks": ""
            },
            "colorscale": [
             [
              0,
              "#0d0887"
             ],
             [
              0.1111111111111111,
              "#46039f"
             ],
             [
              0.2222222222222222,
              "#7201a8"
             ],
             [
              0.3333333333333333,
              "#9c179e"
             ],
             [
              0.4444444444444444,
              "#bd3786"
             ],
             [
              0.5555555555555556,
              "#d8576b"
             ],
             [
              0.6666666666666666,
              "#ed7953"
             ],
             [
              0.7777777777777778,
              "#fb9f3a"
             ],
             [
              0.8888888888888888,
              "#fdca26"
             ],
             [
              1,
              "#f0f921"
             ]
            ],
            "type": "heatmapgl"
           }
          ],
          "histogram": [
           {
            "marker": {
             "pattern": {
              "fillmode": "overlay",
              "size": 10,
              "solidity": 0.2
             }
            },
            "type": "histogram"
           }
          ],
          "histogram2d": [
           {
            "colorbar": {
             "outlinewidth": 0,
             "ticks": ""
            },
            "colorscale": [
             [
              0,
              "#0d0887"
             ],
             [
              0.1111111111111111,
              "#46039f"
             ],
             [
              0.2222222222222222,
              "#7201a8"
             ],
             [
              0.3333333333333333,
              "#9c179e"
             ],
             [
              0.4444444444444444,
              "#bd3786"
             ],
             [
              0.5555555555555556,
              "#d8576b"
             ],
             [
              0.6666666666666666,
              "#ed7953"
             ],
             [
              0.7777777777777778,
              "#fb9f3a"
             ],
             [
              0.8888888888888888,
              "#fdca26"
             ],
             [
              1,
              "#f0f921"
             ]
            ],
            "type": "histogram2d"
           }
          ],
          "histogram2dcontour": [
           {
            "colorbar": {
             "outlinewidth": 0,
             "ticks": ""
            },
            "colorscale": [
             [
              0,
              "#0d0887"
             ],
             [
              0.1111111111111111,
              "#46039f"
             ],
             [
              0.2222222222222222,
              "#7201a8"
             ],
             [
              0.3333333333333333,
              "#9c179e"
             ],
             [
              0.4444444444444444,
              "#bd3786"
             ],
             [
              0.5555555555555556,
              "#d8576b"
             ],
             [
              0.6666666666666666,
              "#ed7953"
             ],
             [
              0.7777777777777778,
              "#fb9f3a"
             ],
             [
              0.8888888888888888,
              "#fdca26"
             ],
             [
              1,
              "#f0f921"
             ]
            ],
            "type": "histogram2dcontour"
           }
          ],
          "mesh3d": [
           {
            "colorbar": {
             "outlinewidth": 0,
             "ticks": ""
            },
            "type": "mesh3d"
           }
          ],
          "parcoords": [
           {
            "line": {
             "colorbar": {
              "outlinewidth": 0,
              "ticks": ""
             }
            },
            "type": "parcoords"
           }
          ],
          "pie": [
           {
            "automargin": true,
            "type": "pie"
           }
          ],
          "scatter": [
           {
            "fillpattern": {
             "fillmode": "overlay",
             "size": 10,
             "solidity": 0.2
            },
            "type": "scatter"
           }
          ],
          "scatter3d": [
           {
            "line": {
             "colorbar": {
              "outlinewidth": 0,
              "ticks": ""
             }
            },
            "marker": {
             "colorbar": {
              "outlinewidth": 0,
              "ticks": ""
             }
            },
            "type": "scatter3d"
           }
          ],
          "scattercarpet": [
           {
            "marker": {
             "colorbar": {
              "outlinewidth": 0,
              "ticks": ""
             }
            },
            "type": "scattercarpet"
           }
          ],
          "scattergeo": [
           {
            "marker": {
             "colorbar": {
              "outlinewidth": 0,
              "ticks": ""
             }
            },
            "type": "scattergeo"
           }
          ],
          "scattergl": [
           {
            "marker": {
             "colorbar": {
              "outlinewidth": 0,
              "ticks": ""
             }
            },
            "type": "scattergl"
           }
          ],
          "scattermapbox": [
           {
            "marker": {
             "colorbar": {
              "outlinewidth": 0,
              "ticks": ""
             }
            },
            "type": "scattermapbox"
           }
          ],
          "scatterpolar": [
           {
            "marker": {
             "colorbar": {
              "outlinewidth": 0,
              "ticks": ""
             }
            },
            "type": "scatterpolar"
           }
          ],
          "scatterpolargl": [
           {
            "marker": {
             "colorbar": {
              "outlinewidth": 0,
              "ticks": ""
             }
            },
            "type": "scatterpolargl"
           }
          ],
          "scatterternary": [
           {
            "marker": {
             "colorbar": {
              "outlinewidth": 0,
              "ticks": ""
             }
            },
            "type": "scatterternary"
           }
          ],
          "surface": [
           {
            "colorbar": {
             "outlinewidth": 0,
             "ticks": ""
            },
            "colorscale": [
             [
              0,
              "#0d0887"
             ],
             [
              0.1111111111111111,
              "#46039f"
             ],
             [
              0.2222222222222222,
              "#7201a8"
             ],
             [
              0.3333333333333333,
              "#9c179e"
             ],
             [
              0.4444444444444444,
              "#bd3786"
             ],
             [
              0.5555555555555556,
              "#d8576b"
             ],
             [
              0.6666666666666666,
              "#ed7953"
             ],
             [
              0.7777777777777778,
              "#fb9f3a"
             ],
             [
              0.8888888888888888,
              "#fdca26"
             ],
             [
              1,
              "#f0f921"
             ]
            ],
            "type": "surface"
           }
          ],
          "table": [
           {
            "cells": {
             "fill": {
              "color": "#EBF0F8"
             },
             "line": {
              "color": "white"
             }
            },
            "header": {
             "fill": {
              "color": "#C8D4E3"
             },
             "line": {
              "color": "white"
             }
            },
            "type": "table"
           }
          ]
         },
         "layout": {
          "annotationdefaults": {
           "arrowcolor": "#2a3f5f",
           "arrowhead": 0,
           "arrowwidth": 1
          },
          "autotypenumbers": "strict",
          "coloraxis": {
           "colorbar": {
            "outlinewidth": 0,
            "ticks": ""
           }
          },
          "colorscale": {
           "diverging": [
            [
             0,
             "#8e0152"
            ],
            [
             0.1,
             "#c51b7d"
            ],
            [
             0.2,
             "#de77ae"
            ],
            [
             0.3,
             "#f1b6da"
            ],
            [
             0.4,
             "#fde0ef"
            ],
            [
             0.5,
             "#f7f7f7"
            ],
            [
             0.6,
             "#e6f5d0"
            ],
            [
             0.7,
             "#b8e186"
            ],
            [
             0.8,
             "#7fbc41"
            ],
            [
             0.9,
             "#4d9221"
            ],
            [
             1,
             "#276419"
            ]
           ],
           "sequential": [
            [
             0,
             "#0d0887"
            ],
            [
             0.1111111111111111,
             "#46039f"
            ],
            [
             0.2222222222222222,
             "#7201a8"
            ],
            [
             0.3333333333333333,
             "#9c179e"
            ],
            [
             0.4444444444444444,
             "#bd3786"
            ],
            [
             0.5555555555555556,
             "#d8576b"
            ],
            [
             0.6666666666666666,
             "#ed7953"
            ],
            [
             0.7777777777777778,
             "#fb9f3a"
            ],
            [
             0.8888888888888888,
             "#fdca26"
            ],
            [
             1,
             "#f0f921"
            ]
           ],
           "sequentialminus": [
            [
             0,
             "#0d0887"
            ],
            [
             0.1111111111111111,
             "#46039f"
            ],
            [
             0.2222222222222222,
             "#7201a8"
            ],
            [
             0.3333333333333333,
             "#9c179e"
            ],
            [
             0.4444444444444444,
             "#bd3786"
            ],
            [
             0.5555555555555556,
             "#d8576b"
            ],
            [
             0.6666666666666666,
             "#ed7953"
            ],
            [
             0.7777777777777778,
             "#fb9f3a"
            ],
            [
             0.8888888888888888,
             "#fdca26"
            ],
            [
             1,
             "#f0f921"
            ]
           ]
          },
          "colorway": [
           "#636efa",
           "#EF553B",
           "#00cc96",
           "#ab63fa",
           "#FFA15A",
           "#19d3f3",
           "#FF6692",
           "#B6E880",
           "#FF97FF",
           "#FECB52"
          ],
          "font": {
           "color": "#2a3f5f"
          },
          "geo": {
           "bgcolor": "white",
           "lakecolor": "white",
           "landcolor": "#E5ECF6",
           "showlakes": true,
           "showland": true,
           "subunitcolor": "white"
          },
          "hoverlabel": {
           "align": "left"
          },
          "hovermode": "closest",
          "mapbox": {
           "style": "light"
          },
          "paper_bgcolor": "white",
          "plot_bgcolor": "#E5ECF6",
          "polar": {
           "angularaxis": {
            "gridcolor": "white",
            "linecolor": "white",
            "ticks": ""
           },
           "bgcolor": "#E5ECF6",
           "radialaxis": {
            "gridcolor": "white",
            "linecolor": "white",
            "ticks": ""
           }
          },
          "scene": {
           "xaxis": {
            "backgroundcolor": "#E5ECF6",
            "gridcolor": "white",
            "gridwidth": 2,
            "linecolor": "white",
            "showbackground": true,
            "ticks": "",
            "zerolinecolor": "white"
           },
           "yaxis": {
            "backgroundcolor": "#E5ECF6",
            "gridcolor": "white",
            "gridwidth": 2,
            "linecolor": "white",
            "showbackground": true,
            "ticks": "",
            "zerolinecolor": "white"
           },
           "zaxis": {
            "backgroundcolor": "#E5ECF6",
            "gridcolor": "white",
            "gridwidth": 2,
            "linecolor": "white",
            "showbackground": true,
            "ticks": "",
            "zerolinecolor": "white"
           }
          },
          "shapedefaults": {
           "line": {
            "color": "#2a3f5f"
           }
          },
          "ternary": {
           "aaxis": {
            "gridcolor": "white",
            "linecolor": "white",
            "ticks": ""
           },
           "baxis": {
            "gridcolor": "white",
            "linecolor": "white",
            "ticks": ""
           },
           "bgcolor": "#E5ECF6",
           "caxis": {
            "gridcolor": "white",
            "linecolor": "white",
            "ticks": ""
           }
          },
          "title": {
           "x": 0.05
          },
          "xaxis": {
           "automargin": true,
           "gridcolor": "white",
           "linecolor": "white",
           "ticks": "",
           "title": {
            "standoff": 15
           },
           "zerolinecolor": "white",
           "zerolinewidth": 2
          },
          "yaxis": {
           "automargin": true,
           "gridcolor": "white",
           "linecolor": "white",
           "ticks": "",
           "title": {
            "standoff": 15
           },
           "zerolinecolor": "white",
           "zerolinewidth": 2
          }
         }
        },
        "title": {
         "text": "Saturated, Actual, Wet-Bulb Vapor Pressure (T<sub>a</sub> = 27.5°C, h = 50.0%, T<sub>w</sub> = 25.0°C)"
        },
        "width": 950,
        "xaxis": {
         "range": [
          -20,
          40
         ],
         "title": {
          "text": "Temperature (°C)"
         }
        },
        "yaxis": {
         "range": [
          0,
          8
         ],
         "title": {
          "text": "Vapor Pressure (kPa)"
         }
        }
       }
      }
     },
     "metadata": {},
     "output_type": "display_data"
    }
   ],
   "source": [
    "import numpy as np\n",
    "import plotly.graph_objects as go\n",
    "import plotly.io as pio\n",
    "from scipy.optimize import fsolve\n",
    "import plotly.io as pio\n",
    "\n",
    "\n",
    "# Set the renderer for Jupyter Book compatibility\n",
    "pio.renderers.default = 'plotly_mimetype'\n",
    "\n",
    "\n",
    "# Set the renderer for Jupyter Book compatibility (creates a bug where equations dont render good)\n",
    "# pio.renderers.default = 'notebook'\n",
    "\n",
    "###########################\n",
    "# (A) FIXED PARAMETERS\n",
    "###########################\n",
    "h_fixed = 50.0          # 50%\n",
    "T_w_fixed = 25.0        # 25 °C\n",
    "x_min, x_max = -20, 40  # Plot range\n",
    "y_min, y_max = 0, 8\n",
    "\n",
    "###########################\n",
    "# (B) CORE FUNCTIONS\n",
    "###########################\n",
    "def saturated_vapor_pressure(T):\n",
    "    T = np.asarray(T, dtype=float)\n",
    "    return 0.61 * np.exp(19.9 * T / (273.0 + T))\n",
    "\n",
    "def find_temperature_for_ea(e_a):\n",
    "    def equation(T_d):\n",
    "        return saturated_vapor_pressure(T_d) - e_a\n",
    "    return fsolve(equation, 10, maxfev=1000)[0]\n",
    "\n",
    "def find_wet_bulb_temperature(T_a, e_w):\n",
    "    def equation(T_w):\n",
    "        return saturated_vapor_pressure(T_w) - 0.066 * (T_a - T_w) - e_w\n",
    "    return fsolve(equation, 10, maxfev=1000)[0]\n",
    "\n",
    "###########################\n",
    "# (C) CHOSEN TEMPERATURE VALUE\n",
    "###########################\n",
    "T_a = 27.5  # Set a fixed T_a value for static visualization\n",
    "\n",
    "e_s_Ta = saturated_vapor_pressure(T_a)\n",
    "e_a = (h_fixed / 100.0) * e_s_Ta\n",
    "T_d = find_temperature_for_ea(e_a)\n",
    "e_s_Td = saturated_vapor_pressure(T_d)\n",
    "\n",
    "e_w_val = saturated_vapor_pressure(T_w_fixed) - 0.066 * (T_a - T_w_fixed)\n",
    "T_w_calc = find_wet_bulb_temperature(T_a, e_w_val)\n",
    "e_s_Tw = saturated_vapor_pressure(T_w_calc)\n",
    "\n",
    "###########################\n",
    "# (D) BUILD THE STATIC FIGURE\n",
    "###########################\n",
    "fig = go.Figure()\n",
    "\n",
    "# 1) Add the saturation curve\n",
    "T_curve = np.linspace(x_min, x_max, 300)\n",
    "e_s_curve = saturated_vapor_pressure(T_curve)\n",
    "fig.add_trace(\n",
    "    go.Scatter(\n",
    "        x=T_curve, y=e_s_curve,\n",
    "        mode='lines',\n",
    "        line=dict(color='red', width=2),\n",
    "        name='e<sub>s</sub>(T)'\n",
    "    )\n",
    ")\n",
    "\n",
    "# 2) Add data points\n",
    "fig.add_trace(go.Scatter(x=[T_a], y=[e_s_Ta], mode='markers', marker=dict(color='blue', size=8), name='T<sub>a</sub>'))\n",
    "fig.add_trace(go.Scatter(x=[T_d], y=[e_s_Td], mode='markers', marker=dict(color='green', size=8), name='T<sub>d</sub>'))\n",
    "fig.add_trace(go.Scatter(x=[T_w_calc], y=[e_s_Tw], mode='markers', marker=dict(color='orange', size=8), name='T<sub>w</sub>'))\n",
    "\n",
    "# 3) Add dashed lines\n",
    "fig.add_shape(type='line', x0=x_min, x1=T_a, y0=e_s_Ta, y1=e_s_Ta, line=dict(color='blue', dash='dash'))\n",
    "fig.add_shape(type='line', x0=T_a, x1=T_a, y0=y_min, y1=e_s_Ta, line=dict(color='blue', dash='dash'))\n",
    "fig.add_shape(type='line', x0=x_min, x1=T_d, y0=e_s_Td, y1=e_s_Td, line=dict(color='green', dash='dash'))\n",
    "fig.add_shape(type='line', x0=T_d, x1=T_d, y0=y_min, y1=e_s_Td, line=dict(color='green', dash='dash'))\n",
    "fig.add_shape(type='line', x0=x_min, x1=T_w_calc, y0=e_s_Tw, y1=e_s_Tw, line=dict(color='orange', dash='dash'))\n",
    "fig.add_shape(type='line', x0=T_w_calc, x1=T_w_calc, y0=y_min, y1=e_s_Tw, line=dict(color='orange', dash='dash'))\n",
    "\n",
    "# 4) Add arrow from P to Q\n",
    "fig.add_annotation(\n",
    "    x=T_w_calc, y=e_s_Tw,\n",
    "    ax=T_a, ay=e_s_Td,\n",
    "    xref='x', yref='y',\n",
    "    axref='x', ayref='y',\n",
    "    showarrow=True,\n",
    "    arrowhead=3,\n",
    "    arrowsize=1.5,\n",
    "    arrowwidth=2,\n",
    "    arrowcolor='black',\n",
    "    font=dict(size=16, color=\"black\"),\n",
    "    text=\"P\"\n",
    ")\n",
    "\n",
    "fig.add_annotation(\n",
    "    x=T_w_calc, y=e_s_Tw,\n",
    "    ax=T_a, ay=e_s_Td,\n",
    "    xref='x', yref='y',\n",
    "    axref='x', ayref='y',\n",
    "    showarrow= False,\n",
    "    arrowhead=3,\n",
    "    arrowsize=1.5,\n",
    "    arrowwidth=2,\n",
    "    arrowcolor='black',\n",
    "    font=dict(size=16, color=\"black\"),\n",
    "    text=\"Q\",\n",
    "    xanchor=\"right\",  # Adjusts text alignment\n",
    "    yanchor=\"bottom\"\n",
    ")\n",
    "\n",
    "# 5) Add labels\n",
    "fig.add_annotation(x=T_a, y=y_min, text=\"T<sub>a</sub>\", font=dict(color='blue', size=12), showarrow=False, yanchor='top')\n",
    "fig.add_annotation(x=T_d, y=y_min, text=\"T<sub>d</sub>\", font=dict(color='green', size=12), showarrow=False, yanchor='top')\n",
    "fig.add_annotation(x=T_w_calc, y=y_min, text=\"T<sub>w</sub>\", font=dict(color='orange', size=12), showarrow=False, yanchor='top')\n",
    "fig.add_annotation(x=x_min, y=e_s_Ta, text=\"e<sub>s</sub>\", font=dict(color='blue', size=12), showarrow=False, xanchor='right')\n",
    "fig.add_annotation(x=x_min, y=e_s_Td, text=\"e<sub>a</sub>\", font=dict(color='green', size=12), showarrow=False, xanchor='right')\n",
    "fig.add_annotation(x=x_min, y=e_s_Tw, text=\"e<sub>w</sub>\", font=dict(color='orange', size=12), showarrow=False, xanchor='right')\n",
    "\n",
    "# 6) Figure layout\n",
    "fig.update_layout(\n",
    "    title=f\"Saturated, Actual, Wet-Bulb Vapor Pressure (T<sub>a</sub> = {T_a}°C, h = {h_fixed}%, T<sub>w</sub> = {T_w_fixed}°C)\",\n",
    "    xaxis=dict(range=[x_min, x_max], title=\"Temperature (°C)\"),\n",
    "    yaxis=dict(range=[y_min, y_max], title=\"Vapor Pressure (kPa)\"),\n",
    "    width=950,\n",
    "    height=600,\n",
    "    margin=dict(b=100),\n",
    "    showlegend=True\n",
    ")\n",
    "\n",
    "# Display the figure\n",
    "fig.show()\n"
   ]
  },
  {
   "cell_type": "markdown",
   "metadata": {},
   "source": [
    "```{figure} ../images/EVA_process_verzadigingsdampspanning.jpg\n",
    "---\n",
    "height: 0px\n",
    "name: fig:verzadigingsdamping\n",
    "---\n",
    "Saturated vapor pressure. (Own work)\n",
    "```"
   ]
  },
  {
   "cell_type": "markdown",
   "metadata": {},
   "source": [
    "\n",
    "\n",
    "However, the atmosphere is not always fully saturated. The actual amount of water vapor, expressed in pressure, is called the *actual vapor pressure* (*NL: daadwerkelijke dampspanning*), $e_a$ [kPa]. The ratio of actual and saturated vapor pressure is the relative humidity:\n",
    "\n",
    "$$\n",
    "h = \\frac{e_a(T)}{e_s(T)} \\times 100\\%\n",
    "\\quad \\text{[-]}\n",
    "$$ (humidity)\n",
    "\n",
    "Thus, the relative humidity determines the 'available space' for water vapor in the atmosphere. Sometimes this 'space' is also defined as the *vapor pressure deficit* [kPa]: $e_s(T)-e_a(T)$. There are three ways to determine the actual vapor pressure:\n",
    "1. By the relative humidity: \n",
    "In case of direct measurement of the relative humidity (e.g., by a hygrometer) and the air temperature ($T_a$): $e_a(T_a)=h \\times e_s(T_a)$\n",
    "1. By dew point (*NL: dauwpunt*):\n",
    "Some meteorological organizations provide the *dew temperature* $T_d$. Dewpoint temperature is the temperature where saturation occurs given a certain actual vapor pressure. At this point, we know that we are on the saturated vapor pressure line and thus the following relation holds: $e_s(T_d)=e_a(T_a)$. Graphically, this means that you move from a point P in Figure {numref}`fig:verzadigingsdamping` horizontally to the left until you hit the saturated vapor pressure line. The temperature where this happens is called the dew point temperature.\n",
    "1. By a psychrometer:\n",
    "A psychrometer consists of two thermometers, a dry one and one in a wet state (often by adding a wet cloth around it). When there is no airflow both thermometers will have the same value ($T_a=T_w$). But when an air flow is forced past the thermometers, this will result in a lower temperature of the wet thermometer ($T_w$) than of the dry ($T_a$) one due to the extraction of energy of latent heat for the evaporation of water from the wet thermometer. The amount of energy that is extracted is determined by the psychrometric constant ($\\gamma=0.066$ kPa/°C). The temperature of the wet thermometer is called *wet bulb temperature* (*NL: natteboltemperatuur*). In figure {numref}`fig:verzadigingsdamping` the line $PQ$ indicates the situation of a humid medium (e.g., a wet patch) cooling down under the influence of ventilation from the actual temperature $T_a$ to 'wet' temperature $T_w$. The evaporation involved in this process causes a drop in temperature until a new equilibrium is reached in point $Q$. At this point, the vapor pressure is increased to the saturated vapor pressure of a wet medium $e_s(T_w)$. Note that $\\gamma$ gives the slope of the line $PQ$. Successively, we can compute the actual vapor pressure (NL: daadwerkelijke dampspanning) [kPa] with the formula:\n",
    "\n",
    "$$\n",
    "e_a(T_a)=e_s(T_w)-\\gamma(T_a-T_w)\n",
    "\\quad \\text{[kPa]}\n",
    "$$ (ea)\n",
    "\n",
    "With:\n",
    "\n",
    "| | | |\n",
    "| --- | --- | --- |\n",
    "|$e_s(T_w)$ | computed with Equation {eq}`esT` | [kPa] |\n",
    "| $T_a$ | Air temperature | [°C] |\n",
    "| $T_w$ | Wet bulb temperature | [°C] |\n",
    "| $\\gamma$ | psychrometer constant | [0.066 kPa/°C] |"
   ]
  },
  {
   "cell_type": "code",
   "execution_count": 5,
   "metadata": {},
   "outputs": [],
   "source": [
    "# Note that the code cells below is used for the website only."
   ]
  },
  {
   "cell_type": "markdown",
   "metadata": {},
   "source": [
    "```{exercise-start} Psychrometer/humidity\n",
    ":label: example_evap_2\n",
    "```\n",
    "a) What is the relative humidity for an air temperature of 18 degrees Celcius and a wet bulb \n",
    "temperature of 10 degrees?\n",
    "\n",
    "b) If the humidity is 100% what will be the wet bulb temperature? \n",
    "\n",
    "```{exercise-end}\n",
    "```"
   ]
  },
  {
   "cell_type": "markdown",
   "metadata": {},
   "source": [
    ":::{dropdown} Answer&nbsp;{ref}`example_evap_2`a\n",
    "\n",
    "$$\n",
    "h = e_a(T=18) / e_s(T=18) = 0.704 / 2.089 = 33.7 \\ \\ [\\%]\n",
    "$$\n",
    "\n",
    "With:\n",
    "\n",
    "$$\n",
    "e_a(T=18) = e_s(T_w = 10) - γ * (18-10) \n",
    "$$\n",
    "\n",
    "This gives: \n",
    "\n",
    "$$\n",
    "e_a(T=18) = 0.61 * \\exp \\bigg(\\frac{19.9*10}{273+10}\\bigg) - 0.066 * (18-10) = 1.232 - 0.528 = 0.704 \\ \\ [kPa] \n",
    "$$\n",
    "\n",
    "e<sub>s</sub>(T = 18) follows from eq. {eq}`esT`:\n",
    "\n",
    "$$\n",
    "e_s(T=18) = 0.61 * \\exp \\bigg(\\frac{19.9*18}{273+18}\\bigg) = 2.089 \\ \\ [kPa] \n",
    "$$\n",
    ":::\n",
    "\n",
    "\n",
    ":::{dropdown} Answer&nbsp;{ref}`example_evap_2`b\n",
    "\n",
    "h = 100%, thus: <br>T<sub>w</sub>= T = 18 degrees Celcius\n",
    "\n",
    ":::"
   ]
  },
  {
   "cell_type": "markdown",
   "metadata": {},
   "source": [
    "For some computations the slope of the saturation vapor pressure curve ($s$ = $\\textrm{d}e_a$/$\\textrm{d}T$) is important. This is easily determined by the derivative of Equation {eq}`esT`:\n",
    "\n",
    "$$\n",
    "s(T) = \\frac{\\textrm{d}e_s}{\\textrm{d}T} = \\frac{5430e_s}{(273+T)^2}\n",
    "\\quad \\text{[kPa/C°]}\n",
    "$$ (s)\n",
    "\n",
    "\n",
    "- b.3. <b>Solar radiation</b>: Evaporation is direct or indirect, provided by solar energy. Solar radiation is therefore the most dominant factor for the determination of evaporation. The radiation coming from the sun (i.e., hot body) is called shortwave radiation (*NL: kortegolfstraling*, wavelengths 0.3 - 3 μm). The radiation that is received at the outer limits of the atmosphere is called *extraterrestrial radiation* ($R_a$) and is dependent on the latitude and the time of the year. Due to local atmospheric conditions (e.g., smog) and cloudiness the amount of shortwave radiation entering the Earth's surface is reduced. This reduced radiation is called *incoming shortwave radiation* ($R_{s,in}$) and is important for the evaporation process. Often the incoming shortwave radiation is directly measured at the earth's surface by pyrometer, but can also be estimated by empirical relations between $R_a$ and the cloudiness ($n$/$N$). Where $n$ is the number of actual hours of sunshine and $N$ is the number of possible hours of sunshine (depending on the time of year and location). In general, the relation between extraterrestrial and shortwave radiation can be expressed as {cite:p}`hendriks-2010`: \n",
    "\n",
    "$$\n",
    "R_{s,in} = (a_s + b_s \\frac{n}{N}) * R_a\n",
    "$$ (R_s_in)\n",
    "\n",
    "For the Netherlands, typical values for the constants are $a_s=0.2$ and $b_s=0.55$ {cite:p}`debruin-2000`, while globally often $a_s=0.25$ and $b_s=0.5$ {cite:p}`allen-1998` are recommended. Other estimates can be found in {cite:p}`iqbal-1983`. As mentioned before, a part of the incoming shortwave radiation is immediately reflected back. Hence the net shortwave radiation equals $R_{s,in}-R_{s,out}=R_{s,in} - rR_{s,in}=(1-r)R_{s,in}$, where $r$ is the albedo.\n",
    "\n",
    "    \n",
    "Similar to a hot body (sun) that emits shortwave radiation, a cold body with temperature $T$ emits longwave radiation (*NL: langegolfstraling*, wavelengths 5 - 100 μm). Both the earth and the atmosphere are such cold bodies. Longwave radiation follows the law of Stefan Bolzmann: $R_{l, out}=\\epsilon \\sigma (T+273)^4$. Where $\\epsilon$ is the emissivity coefficient, $\\sigma$ the Stefan Bolzmann coeficient ($=5.67 \\times 10^{-8}$ W $m^{-2}$ $C^{-4}$ $= 4.9 \\times 10^{-3}$ $J$ $d^{-1}$ $m^{-2}$ $C^{-4}$), and $T$ the temperature of the surface ($T_s$) or atmosphere ($T_a$) in Celsius. The surface emits longwave radiation back to the atmosphere ($R_{l, out}$) and is dominant in comparison to the atmosphere that emits longwave radiation towards the earth ($R_{l, in}$). As the determination of the emissivity is complex, often an emprical relation is used where the net outgoing longwave radiation ($R_{l, out}-R_{l,in}$) equals:\n",
    "\n",
    "$$\n",
    "R_{l,n}=R_{l, out}-R_{l,in}=\\sigma (T+273)^4 (a_e+b_e \\sqrt(e_a))(a_c+b_c\\frac{n}{N})\n",
    "$$ (longwave_radiation)\n",
    "\n",
    "Typical values for the constants are: $a_e=0.34$, $b_e=-0.14 kPa^{0.5}$, $a_c=0.25$, and $b_c=1-a_c=0.75$ {cite:p}`hendriks-2010`. \n",
    "For estimating evaporation the net radiation, $R_n$ is important. It is the balance between all incoming and outgoing radiation fluxes (see Figure {numref}`fig:RaRbenRc`):\n",
    "\n",
    "```{figure} ../images/EVA_process_inoutrad.jpg\n",
    "---\n",
    "height: 300px\n",
    "name: fig:RaRbenRc\n",
    "---\n",
    "Incoming and outgoing radiation (R). (Own work) \n",
    "```\n",
    "        \n",
    "$$\n",
    "R_n = R_{s,in} - R_{s,out} + R_{l,in} - R_{l,out}\n",
    "= R_{s,in} - rR_{s,in} - R_{l,n} \n",
    "=(1-r)R_{s,in}-R_{l,n}\n",
    "\\quad \\text{[Jd$^{-1}$m$^{-2}$]}\n",
    "$$ (netradiation)\n",
    "\n",
    "The net radiation can be measured with a radiometer (see {numref}`fig:radiometer`).\n",
    "```{figure} ../images/EVA_process_radiometer.jpg\n",
    "---\n",
    "height: 300px\n",
    "name: fig:radiometer\n",
    "---\n",
    "Radiometer - photo from {cite:p}`instropicsEVA`.\n",
    "```\n",
    "\n",
    "\n",
    "- b.4. <b>Temperature</b>: The saturated vapor pressure of the air is a function of the temperature of the air ($T_a$). The longwave radiation is temperature-dependent as well. To measure the temperature properly, only air temperature has to be measured, hence the energy should be supplied by convection and not by radiation, condensation or conduction. For that, the thermometer needs to be naturally ventilated and sheltered from sun and rain. This can be done according to the WMO standard in a 'Stevenson shelter' ({numref}`fig:Stevensonshelter`).\n",
    "\n",
    "```{figure} ../images/EVA_process_stevensonshelter.jpg\n",
    "---\n",
    "height: 300px\n",
    "name: fig:Stevensonshelter\n",
    "---\n",
    "Stevenson Shelter - photo from {cite:p}`instropicsEVA`.\n",
    "```"
   ]
  },
  {
   "cell_type": "markdown",
   "metadata": {},
   "source": []
  }
 ],
 "metadata": {
  "kernelspec": {
   "display_name": "Python 3",
   "language": "python",
   "name": "python3"
  },
  "language_info": {
   "codemirror_mode": {
    "name": "ipython",
    "version": 3
   },
   "file_extension": ".py",
   "mimetype": "text/x-python",
   "name": "python",
   "nbconvert_exporter": "python",
   "pygments_lexer": "ipython3",
   "version": "3.11.2"
  }
 },
 "nbformat": 4,
 "nbformat_minor": 2
}
