{
 "cells": [
  {
   "cell_type": "markdown",
   "metadata": {},
   "source": [
    "# Internal introduction\n",
    "In here the patch notes after merging *main* to *publish* will be mentioned. The first patch is v1.0.0 and further patch updates should be represented here below. \n",
    "\n",
    "Note that this is an internal document to be used internally only and to help lecturers to communicate with students via brightspace. "
   ]
  },
  {
   "cell_type": "markdown",
   "metadata": {},
   "source": [
    "## Patch notes v1.0.0 \n",
    "\n",
    "The following updates where adjusted: \n",
    "-   Errors noticed by TA's for chapter 5 (evaporation) excercises updated.\n",
    "-   More excercises added for rainfall runoff relations.\n",
    "-   Nomenclature for entire book updated.\n",
    "-   Comments for entire book added before cell blocks where \"dropdowns\" and \"jupyterquiz\" are used to elemenate confusion for students who want to download the book instead of using the website.\n"
   ]
  },
  {
   "cell_type": "markdown",
   "metadata": {},
   "source": [
    "## Patch notes v1.0.1\n",
    "\n",
    "..."
   ]
  },
  {
   "cell_type": "markdown",
   "metadata": {},
   "source": [
    "## Patch notes v1.0.2\n",
    "\n",
    "..."
   ]
  },
  {
   "cell_type": "markdown",
   "metadata": {},
   "source": []
  }
 ],
 "metadata": {
  "language_info": {
   "name": "python"
  }
 },
 "nbformat": 4,
 "nbformat_minor": 2
}
